{
 "cells": [
  {
   "cell_type": "markdown",
   "metadata": {},
   "source": [
    "                                                 Basic Numpy Exercises \n",
    "                                               Compiled by: Dr. Noman Islam"
   ]
  },
  {
   "cell_type": "markdown",
   "metadata": {
    "nbpresent": {
     "id": "917ef18c-469b-4727-80a2-b184c52cfa22"
    }
   },
   "source": [
    "#### 1. Create a uniform subdivision of the interval -1.3 to 2.5 with 64 subdivisions."
   ]
  },
  {
   "cell_type": "code",
   "execution_count": 1,
   "metadata": {
    "nbpresent": {
     "id": "6c92717c-d48d-47fb-b538-6f6f7dacbb6c"
    }
   },
   "outputs": [],
   "source": [
    "import numpy as np"
   ]
  },
  {
   "cell_type": "code",
   "execution_count": 2,
   "metadata": {},
   "outputs": [],
   "source": [
    "myList = np.arange(-1.3, 2.5,0.06)"
   ]
  },
  {
   "cell_type": "code",
   "execution_count": 3,
   "metadata": {},
   "outputs": [
    {
     "data": {
      "text/plain": [
       "array([-1.3 , -1.24, -1.18, -1.12, -1.06, -1.  , -0.94, -0.88, -0.82,\n",
       "       -0.76, -0.7 , -0.64, -0.58, -0.52, -0.46, -0.4 , -0.34, -0.28,\n",
       "       -0.22, -0.16, -0.1 , -0.04,  0.02,  0.08,  0.14,  0.2 ,  0.26,\n",
       "        0.32,  0.38,  0.44,  0.5 ,  0.56,  0.62,  0.68,  0.74,  0.8 ,\n",
       "        0.86,  0.92,  0.98,  1.04,  1.1 ,  1.16,  1.22,  1.28,  1.34,\n",
       "        1.4 ,  1.46,  1.52,  1.58,  1.64,  1.7 ,  1.76,  1.82,  1.88,\n",
       "        1.94,  2.  ,  2.06,  2.12,  2.18,  2.24,  2.3 ,  2.36,  2.42,\n",
       "        2.48])"
      ]
     },
     "execution_count": 3,
     "metadata": {},
     "output_type": "execute_result"
    }
   ],
   "source": [
    "myList"
   ]
  },
  {
   "cell_type": "code",
   "execution_count": 4,
   "metadata": {},
   "outputs": [
    {
     "data": {
      "text/plain": [
       "64"
      ]
     },
     "execution_count": 4,
     "metadata": {},
     "output_type": "execute_result"
    }
   ],
   "source": [
    "len(myList)"
   ]
  },
  {
   "cell_type": "markdown",
   "metadata": {
    "nbpresent": {
     "id": "35f49642-fc18-49d4-928a-b2889273ae9c"
    }
   },
   "source": [
    "#### 2. Generate an array of length  3n  filled with the cyclic pattern 1, 2, 3."
   ]
  },
  {
   "cell_type": "code",
   "execution_count": 5,
   "metadata": {
    "nbpresent": {
     "id": "b0a35365-8f15-4777-9b42-b827bfa5a66a"
    }
   },
   "outputs": [],
   "source": [
    "myArray = np.full([5,3],[1,2,3])"
   ]
  },
  {
   "cell_type": "code",
   "execution_count": 6,
   "metadata": {},
   "outputs": [
    {
     "data": {
      "text/plain": [
       "array([[1, 2, 3],\n",
       "       [1, 2, 3],\n",
       "       [1, 2, 3],\n",
       "       [1, 2, 3],\n",
       "       [1, 2, 3]])"
      ]
     },
     "execution_count": 6,
     "metadata": {},
     "output_type": "execute_result"
    }
   ],
   "source": [
    "myArray"
   ]
  },
  {
   "cell_type": "markdown",
   "metadata": {
    "nbpresent": {
     "id": "f2e862dd-bfb8-49db-a83a-171c8f0699b4"
    }
   },
   "source": [
    "#### 3. Create an array of the first 10 odd integers."
   ]
  },
  {
   "cell_type": "code",
   "execution_count": 7,
   "metadata": {
    "nbpresent": {
     "id": "d17c928a-7a5f-4691-b034-ff6cb47230c5"
    }
   },
   "outputs": [
    {
     "data": {
      "text/plain": [
       "(array([1, 3, 5, 7, 9]),)"
      ]
     },
     "execution_count": 7,
     "metadata": {},
     "output_type": "execute_result"
    }
   ],
   "source": [
    "integerArray = np.arange(10)\n",
    "oddArray = np.where(integerArray%2==1)\n",
    "oddArray"
   ]
  },
  {
   "cell_type": "markdown",
   "metadata": {
    "nbpresent": {
     "id": "a0eacf44-b26e-478d-af06-0f9915396faa"
    }
   },
   "source": [
    "#### 4. Create a 10 x 10 arrays of zeros and then \"frame\" it with a border of ones."
   ]
  },
  {
   "cell_type": "code",
   "execution_count": 8,
   "metadata": {
    "nbpresent": {
     "id": "9bbc71d3-f25e-44ee-841d-d20ac107eb85"
    }
   },
   "outputs": [
    {
     "data": {
      "text/plain": [
       "array([[1., 1., 1., 1., 1., 1., 1., 1., 1., 1.],\n",
       "       [1., 0., 0., 0., 0., 0., 0., 0., 0., 1.],\n",
       "       [1., 0., 0., 0., 0., 0., 0., 0., 0., 1.],\n",
       "       [1., 0., 0., 0., 0., 0., 0., 0., 0., 1.],\n",
       "       [1., 0., 0., 0., 0., 0., 0., 0., 0., 1.],\n",
       "       [1., 0., 0., 0., 0., 0., 0., 0., 0., 1.],\n",
       "       [1., 0., 0., 0., 0., 0., 0., 0., 0., 1.],\n",
       "       [1., 0., 0., 0., 0., 0., 0., 0., 0., 1.],\n",
       "       [1., 0., 0., 0., 0., 0., 0., 0., 0., 1.],\n",
       "       [1., 1., 1., 1., 1., 1., 1., 1., 1., 1.]])"
      ]
     },
     "execution_count": 8,
     "metadata": {},
     "output_type": "execute_result"
    }
   ],
   "source": [
    "zeroArray = np.zeros([10,10])\n",
    "zeroArray[:,0] = 1\n",
    "zeroArray[0,:] = 1\n",
    "zeroArray[-1:,:] = 1\n",
    "zeroArray[:,-1] = 1\n",
    "zeroArray"
   ]
  },
  {
   "cell_type": "markdown",
   "metadata": {},
   "source": [
    "#### 5. Create an 8 x 8 array with a checkerboard pattern of zeros and ones using a slicing+striding approach."
   ]
  },
  {
   "cell_type": "code",
   "execution_count": 9,
   "metadata": {
    "nbpresent": {
     "id": "caba0f19-1c51-4b0e-a192-da3f6d6c2e28"
    }
   },
   "outputs": [
    {
     "data": {
      "text/plain": [
       "array([[0., 1., 0., 1., 0., 1., 0., 1.],\n",
       "       [1., 0., 1., 0., 1., 0., 1., 0.],\n",
       "       [0., 1., 0., 1., 0., 1., 0., 1.],\n",
       "       [1., 0., 1., 0., 1., 0., 1., 0.],\n",
       "       [0., 1., 0., 1., 0., 1., 0., 1.],\n",
       "       [1., 0., 1., 0., 1., 0., 1., 0.],\n",
       "       [0., 1., 0., 1., 0., 1., 0., 1.],\n",
       "       [1., 0., 1., 0., 1., 0., 1., 0.]])"
      ]
     },
     "execution_count": 9,
     "metadata": {},
     "output_type": "execute_result"
    }
   ],
   "source": [
    "myArray = np.zeros([8,8])\n",
    "myArray[1::2,::2] = 1\n",
    "myArray[::2,1::2] = 1\n",
    "myArray"
   ]
  },
  {
   "cell_type": "code",
   "execution_count": null,
   "metadata": {},
   "outputs": [],
   "source": []
  }
 ],
 "metadata": {
  "anaconda-cloud": {},
  "celltoolbar": "Raw Cell Format",
  "kernelspec": {
   "display_name": "Python 3 (ipykernel)",
   "language": "python",
   "name": "python3"
  },
  "language_info": {
   "codemirror_mode": {
    "name": "ipython",
    "version": 3
   },
   "file_extension": ".py",
   "mimetype": "text/x-python",
   "name": "python",
   "nbconvert_exporter": "python",
   "pygments_lexer": "ipython3",
   "version": "3.9.12"
  }
 },
 "nbformat": 4,
 "nbformat_minor": 1
}
